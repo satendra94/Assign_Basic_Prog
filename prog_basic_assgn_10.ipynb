{
 "cells": [
  {
   "cell_type": "raw",
   "id": "79006a7d",
   "metadata": {},
   "source": [
    "1. Write a Python program to find sum of elements in list?"
   ]
  },
  {
   "cell_type": "raw",
   "id": "cd69a8f4",
   "metadata": {},
   "source": [
    "Ans.\n",
    "l=[1,2,3,4,5,6,7]\n",
    "s=0\n",
    "for i in l:\n",
    "    s=s+i\n",
    "print(s)"
   ]
  },
  {
   "cell_type": "raw",
   "id": "3ed061fe",
   "metadata": {},
   "source": [
    "2. Write a Python program to Multiply all numbers in the list?"
   ]
  },
  {
   "cell_type": "raw",
   "id": "3e5e0d68",
   "metadata": {},
   "source": [
    "Ans.\n",
    "l=[1,2,3,4,5,6,7]\n",
    "s=1\n",
    "for i in l:\n",
    "    s=s*i\n",
    "print(s)"
   ]
  },
  {
   "cell_type": "raw",
   "id": "61b0823f",
   "metadata": {},
   "source": [
    "3. Write a Python program to find smallest number in a list?"
   ]
  },
  {
   "cell_type": "raw",
   "id": "17ea4ba9",
   "metadata": {},
   "source": [
    "l=[56,23,24,96,76,95,5]\n",
    "l.sort()\n",
    "print(l[0])"
   ]
  },
  {
   "cell_type": "raw",
   "id": "0b268939",
   "metadata": {},
   "source": [
    "4. Write a Python program to find largest number in a list?"
   ]
  },
  {
   "cell_type": "raw",
   "id": "87c929ba",
   "metadata": {},
   "source": [
    "l=[56,23,24,96,76,95,5]\n",
    "l.sort()\n",
    "l.reverse()\n",
    "print(l[0])"
   ]
  },
  {
   "cell_type": "raw",
   "id": "39fa2976",
   "metadata": {},
   "source": [
    "5. Write a Python program to find second largest number in a list?"
   ]
  },
  {
   "cell_type": "raw",
   "id": "f0307a3f",
   "metadata": {},
   "source": [
    "l=[56,55,45,23,25,47,83,99,103,201,556]\n",
    "l.sort()\n",
    "l.reverse()\n",
    "print(l[1])\n",
    "         "
   ]
  },
  {
   "cell_type": "raw",
   "id": "331f7532",
   "metadata": {},
   "source": [
    "6. Write a Python program to find N largest elements from a list?"
   ]
  },
  {
   "cell_type": "raw",
   "id": "82359b74",
   "metadata": {},
   "source": [
    "l=[545,2,65,2,5,565,56,24,89,57,52,266]\n",
    "n=int(input(\"enter the value of n \"))\n",
    "l.sort()\n",
    "l[-n::]\n"
   ]
  },
  {
   "cell_type": "raw",
   "id": "7e3adf94",
   "metadata": {},
   "source": [
    "7. Write a Python program to print even numbers in a list?"
   ]
  },
  {
   "cell_type": "raw",
   "id": "5e24ea18",
   "metadata": {},
   "source": [
    "l=[24,23,14,56,26,78,63,98,99]\n",
    "for i in l:\n",
    "    if i%2==0:\n",
    "        print(i)\n",
    "    "
   ]
  },
  {
   "cell_type": "raw",
   "id": "78376741",
   "metadata": {},
   "source": [
    "8. Write a Python program to print odd numbers in a List?"
   ]
  },
  {
   "cell_type": "raw",
   "id": "c33f46fd",
   "metadata": {},
   "source": [
    "l=[24,23,14,56,26,78,63,98,99]\n",
    "for i in l:\n",
    "    if i%2==0:\n",
    "        pass\n",
    "    else:\n",
    "        print(i)"
   ]
  },
  {
   "cell_type": "raw",
   "id": "9bf5f22d",
   "metadata": {},
   "source": [
    "9. Write a Python program to Remove empty List from List?"
   ]
  },
  {
   "cell_type": "raw",
   "id": "ac50f98c",
   "metadata": {},
   "source": [
    "l=[1,2,3,1,2,4,[],12,6,6,[],[5,45,12,3,5],[],[],[45,5]]\n",
    "for i in l:\n",
    "    if type(i)==list:\n",
    "        l.remove([])\n",
    "print(l)\n",
    "        "
   ]
  },
  {
   "cell_type": "raw",
   "id": "7fefb6cb",
   "metadata": {},
   "source": [
    "10. Write a Python program to Cloning or Copying a list?"
   ]
  },
  {
   "cell_type": "raw",
   "id": "ff2e3788",
   "metadata": {},
   "source": [
    "l=[24,23,14,56,26,78,63,98,99]\n",
    "l.copy()\n",
    "l1=l\n",
    "print(l1)"
   ]
  },
  {
   "cell_type": "raw",
   "id": "0d3db39f",
   "metadata": {},
   "source": [
    "11. Write a Python program to Count occurrences of an element in a list?"
   ]
  },
  {
   "cell_type": "raw",
   "id": "5e716e78",
   "metadata": {},
   "source": [
    "l=[1,2,1,3,2,1,5,6,2,1,233,2,55,2,1,22,2,3]\n",
    "l.count(1)"
   ]
  },
  {
   "cell_type": "code",
   "execution_count": null,
   "id": "789a9016",
   "metadata": {},
   "outputs": [],
   "source": []
  }
 ],
 "metadata": {
  "kernelspec": {
   "display_name": "Python 3",
   "language": "python",
   "name": "python3"
  },
  "language_info": {
   "codemirror_mode": {
    "name": "ipython",
    "version": 3
   },
   "file_extension": ".py",
   "mimetype": "text/x-python",
   "name": "python",
   "nbconvert_exporter": "python",
   "pygments_lexer": "ipython3",
   "version": "3.8.8"
  }
 },
 "nbformat": 4,
 "nbformat_minor": 5
}
