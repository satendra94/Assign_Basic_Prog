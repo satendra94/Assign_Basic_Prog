{
 "cells": [
  {
   "cell_type": "raw",
   "id": "05b9e636",
   "metadata": {},
   "source": [
    "1. Write a Python program to convert kilometers to miles?"
   ]
  },
  {
   "cell_type": "code",
   "execution_count": 4,
   "id": "913a3250",
   "metadata": {},
   "outputs": [
    {
     "name": "stdout",
     "output_type": "stream",
     "text": [
      "Enter the kilometer 1\n",
      "0.6214\n"
     ]
    }
   ],
   "source": [
    "km=int(input(\"Enter the kilometer \"))\n",
    "m=km*0.6214\n",
    "print(m)"
   ]
  },
  {
   "cell_type": "raw",
   "id": "7eb261f3",
   "metadata": {},
   "source": [
    "2. Write a Python program to convert Celsius to Fahrenheit?"
   ]
  },
  {
   "cell_type": "code",
   "execution_count": 4,
   "id": "5016d7ef",
   "metadata": {},
   "outputs": [
    {
     "name": "stdout",
     "output_type": "stream",
     "text": [
      "Enter the Celsius 32\n",
      "89.6\n"
     ]
    }
   ],
   "source": [
    "C=int(input(\"Enter the Celsius \"))\n",
    "F=(C*(9/5))+32\n",
    "print(F)"
   ]
  },
  {
   "cell_type": "raw",
   "id": "31baf491",
   "metadata": {},
   "source": [
    "3. Write a Python program to display calendar?"
   ]
  },
  {
   "cell_type": "code",
   "execution_count": 3,
   "id": "c452c145",
   "metadata": {},
   "outputs": [
    {
     "name": "stdout",
     "output_type": "stream",
     "text": [
      "Enter the Year 2022\n",
      "Enter the Month 1\n",
      "    January 2022\n",
      "Mo Tu We Th Fr Sa Su\n",
      "                1  2\n",
      " 3  4  5  6  7  8  9\n",
      "10 11 12 13 14 15 16\n",
      "17 18 19 20 21 22 23\n",
      "24 25 26 27 28 29 30\n",
      "31\n",
      "\n"
     ]
    }
   ],
   "source": [
    "import calendar\n",
    "Year=int(input(\"Enter the Year \"))\n",
    "Month=int(input(\"Enter the Month \"))\n",
    "print(calendar.month(Year,Month))"
   ]
  },
  {
   "cell_type": "raw",
   "id": "a6c6085a",
   "metadata": {},
   "source": [
    "4. Write a Python program to solve quadratic equation?"
   ]
  },
  {
   "cell_type": "code",
   "execution_count": 2,
   "id": "978448da",
   "metadata": {},
   "outputs": [
    {
     "name": "stdout",
     "output_type": "stream",
     "text": [
      "Enter the value of a 1\n",
      "Enter the value of b 5\n",
      "Enter the value of c 6\n",
      "the solutions are (-3+0j) and (-2+0j)\n"
     ]
    }
   ],
   "source": [
    "import cmath\n",
    "\n",
    "a=int(input(\"Enter the value of a \"))\n",
    "b=int(input(\"Enter the value of b \"))\n",
    "c=int(input(\"Enter the value of c \"))\n",
    "\n",
    "d=(b**2)-(4*a*c)\n",
    "\n",
    "s1=(-b-cmath.sqrt(d))/(2*a)\n",
    "s2=(-b+cmath.sqrt(d))/(2*a)\n",
    "\n",
    "print(\"the solutions are {0} and {1}\".format(s1,s2))"
   ]
  },
  {
   "cell_type": "raw",
   "id": "e02e7933",
   "metadata": {},
   "source": [
    "5. Write a Python program to swap two variables without temp variable?"
   ]
  },
  {
   "cell_type": "code",
   "execution_count": 13,
   "id": "edcfd226",
   "metadata": {},
   "outputs": [
    {
     "name": "stdout",
     "output_type": "stream",
     "text": [
      "Enter the value of x 5\n",
      "Enter the value of y 6\n",
      "values of x,y before swap  5 6\n",
      "11\n",
      "5\n",
      "6\n",
      "value of x,y after swap  6 5\n"
     ]
    }
   ],
   "source": [
    "x=int(input(\"Enter the value of x \"))\n",
    "y=int(input(\"Enter the value of y \"))\n",
    "print(\"values of x,y before swap \",x,y)\n",
    "x=x+y\n",
    "print(x)\n",
    "y=x-y\n",
    "print(y)\n",
    "x=x-y\n",
    "print(x)\n",
    "print(\"value of x,y after swap \",x,y)"
   ]
  },
  {
   "cell_type": "code",
   "execution_count": null,
   "id": "6f76ca54",
   "metadata": {},
   "outputs": [],
   "source": []
  }
 ],
 "metadata": {
  "kernelspec": {
   "display_name": "Python 3",
   "language": "python",
   "name": "python3"
  },
  "language_info": {
   "codemirror_mode": {
    "name": "ipython",
    "version": 3
   },
   "file_extension": ".py",
   "mimetype": "text/x-python",
   "name": "python",
   "nbconvert_exporter": "python",
   "pygments_lexer": "ipython3",
   "version": "3.8.8"
  }
 },
 "nbformat": 4,
 "nbformat_minor": 5
}
